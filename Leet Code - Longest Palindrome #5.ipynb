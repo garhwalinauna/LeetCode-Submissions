{
 "cells": [
  {
   "cell_type": "markdown",
   "id": "467ad711-66e6-422a-bda1-5224483b194b",
   "metadata": {},
   "source": [
    "# Longest Palindromic Substring - LeetCode \n",
    "## https://leetcode.com/problems/longest-palindromic-substring/ "
   ]
  },
  {
   "cell_type": "markdown",
   "id": "bb68caf7-6be6-42ff-b366-e1bd7b7ceccd",
   "metadata": {},
   "source": [
    "### Approach 1"
   ]
  },
  {
   "cell_type": "code",
   "execution_count": 3,
   "id": "706b4fd3-097f-4520-8927-cf97b11154a6",
   "metadata": {},
   "outputs": [],
   "source": [
    "class Solution:\n",
    "    def longestPalindrome(self, s: str) -> str:\n",
    "        long_palin = s[0]\n",
    "        for i in range(len(s)):\n",
    "            for j in range(i):\n",
    "                if s[j:i+1] == s[j:i+1][::-1] and len(s[j:i+1]) > len(long_palin):\n",
    "                    long_palin = s[j:i+1]\n",
    "        return long_palin"
   ]
  },
  {
   "cell_type": "markdown",
   "id": "1b23d56c-ff0d-4eff-8659-ced94d8486f8",
   "metadata": {},
   "source": [
    "### Approach 2"
   ]
  },
  {
   "cell_type": "code",
   "execution_count": 4,
   "id": "968c3d69-b60c-41c7-81d8-a7c1ae89a62b",
   "metadata": {},
   "outputs": [],
   "source": [
    "class Solution:\n",
    "    def longestPalindrome(self, s: str) -> str:\n",
    "        if s == s[::-1]:\n",
    "            return s\n",
    "        long_palin = s[0]\n",
    "        for i in range(len(s)-1, 1, -1):\n",
    "            for j in range(0, len(s)-1, 1):\n",
    "                if s[j:i+j] == s[j:i+j][::-1] and len(s[j:i+j]) > len(long_palin):\n",
    "                    long_palin = s[j:i+j]\n",
    "                    break\n",
    "        return long_palin"
   ]
  },
  {
   "cell_type": "markdown",
   "id": "9fa55249-3320-4d2d-98ae-d0cc986d03fa",
   "metadata": {},
   "source": [
    "### Approrach 3"
   ]
  },
  {
   "cell_type": "code",
   "execution_count": null,
   "id": "9b10006c-7fde-4138-9dd2-cfb682ad6e0b",
   "metadata": {},
   "outputs": [],
   "source": [
    "lass Solution:\n",
    "    def longestPalindrome(self, s: str) -> str:\n",
    "        if s is '': \n",
    "            return s\n",
    "        max_len = 0 \n",
    "        start, end = 0, 0\n",
    "        for i in range(len(s)):\n",
    "            len1 = self.expandFromCenter(s, i, i)\n",
    "            len2 = self.expandFromCenter(s, i, i+1)\n",
    "            l = max(len1, len2)\n",
    "            if l > end - start:\n",
    "                start = i - (l - 1) // 2\n",
    "                end = i + l // 2\n",
    "\n",
    "        return s[start:end+1]\n",
    "\n",
    "    def expandFromCenter(self, s, idx1, idx2):\n",
    "        while idx1 >= 0 and idx2 < len(s) and s[idx1] == s[idx2]:\n",
    "            idx1 -= 1\n",
    "            idx2 += 1\n",
    "        return idx2 - idx1 - 1 "
   ]
  }
 ],
 "metadata": {
  "kernelspec": {
   "display_name": "Python 3",
   "language": "python",
   "name": "python3"
  },
  "language_info": {
   "codemirror_mode": {
    "name": "ipython",
    "version": 3
   },
   "file_extension": ".py",
   "mimetype": "text/x-python",
   "name": "python",
   "nbconvert_exporter": "python",
   "pygments_lexer": "ipython3",
   "version": "3.9.5"
  }
 },
 "nbformat": 4,
 "nbformat_minor": 5
}
