{
 "cells": [
  {
   "cell_type": "markdown",
   "id": "3493979d-26ac-4e24-9655-48dd07983a28",
   "metadata": {},
   "source": [
    "# Reverse Integer - LeetCode #7\n",
    "## https://leetcode.com/problems/reverse-integer/"
   ]
  },
  {
   "cell_type": "code",
   "execution_count": 1,
   "id": "cbdbdfa7-a384-437d-a65f-2aa2d8b28ba8",
   "metadata": {},
   "outputs": [],
   "source": [
    "class Solution:\n",
    "    def reverse(self, x: int) -> int:\n",
    "        sign = 1\n",
    "        if x < 0:\n",
    "            sign = -1\n",
    "            x = x * sign\n",
    "        rev_num = sign * int(str(x)[::-1])\n",
    "        if rev_num > pow(2, 31) - 1 or rev_num < -pow(2, 31):\n",
    "            return 0\n",
    "        return rev_num"
   ]
  }
 ],
 "metadata": {
  "kernelspec": {
   "display_name": "Python 3",
   "language": "python",
   "name": "python3"
  },
  "language_info": {
   "codemirror_mode": {
    "name": "ipython",
    "version": 3
   },
   "file_extension": ".py",
   "mimetype": "text/x-python",
   "name": "python",
   "nbconvert_exporter": "python",
   "pygments_lexer": "ipython3",
   "version": "3.9.5"
  }
 },
 "nbformat": 4,
 "nbformat_minor": 5
}
