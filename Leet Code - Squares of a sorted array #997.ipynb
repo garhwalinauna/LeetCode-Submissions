{
 "cells": [
  {
   "cell_type": "markdown",
   "id": "261e4a8c-d2d2-489b-85bb-8890c025fc45",
   "metadata": {},
   "source": [
    "# Squares of a sorted array - LeetCode #977\n",
    "## https://leetcode.com/problems/squares-of-a-sorted-array/"
   ]
  },
  {
   "cell_type": "markdown",
   "id": "2a33a086-0fe2-42fa-9f12-e48447ebb056",
   "metadata": {},
   "source": [
    "### Approach 1 - O(n logn)"
   ]
  },
  {
   "cell_type": "code",
   "execution_count": 1,
   "id": "5e551d8c-f8b5-4856-87d5-2445ba3e5c9b",
   "metadata": {},
   "outputs": [],
   "source": [
    "def sortedSquares(self, nums):\n",
    "    sorted_nums = [i ** 2 for i in nums]\n",
    "    sorted_nums.sort()\n",
    "    return sorted_nums"
   ]
  },
  {
   "cell_type": "markdown",
   "id": "674ec165-59f6-448b-be22-5382f6e3a12a",
   "metadata": {},
   "source": [
    "### Approach 2 - O(n)"
   ]
  },
  {
   "cell_type": "code",
   "execution_count": 2,
   "id": "bf0c2c5a-ae9d-4f9f-a23c-80495e2275c2",
   "metadata": {},
   "outputs": [],
   "source": [
    "def sortedSquares(nums):\n",
    "    start = 0 \n",
    "    end = len(nums) - 1\n",
    "    counter = len(nums) - 1\n",
    "    sorted_nums = [0] * len(nums)\n",
    "    while start <= end:\n",
    "        if abs(nums[start]) > abs(nums[end]):\n",
    "            sorted_nums[counter] = nums[start] * nums[start]\n",
    "            start += 1\n",
    "        else:\n",
    "            sorted_nums[counter] = nums[end] * nums[end]\n",
    "            end -= 1\n",
    "        counter -= 1\n",
    "    return sorted_nums"
   ]
  }
 ],
 "metadata": {
  "kernelspec": {
   "display_name": "Python 3",
   "language": "python",
   "name": "python3"
  },
  "language_info": {
   "codemirror_mode": {
    "name": "ipython",
    "version": 3
   },
   "file_extension": ".py",
   "mimetype": "text/x-python",
   "name": "python",
   "nbconvert_exporter": "python",
   "pygments_lexer": "ipython3",
   "version": "3.9.5"
  }
 },
 "nbformat": 4,
 "nbformat_minor": 5
}
