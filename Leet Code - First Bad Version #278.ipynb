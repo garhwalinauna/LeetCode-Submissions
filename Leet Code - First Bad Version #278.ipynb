{
 "cells": [
  {
   "cell_type": "markdown",
   "id": "efb20520-114d-4497-bbb2-97ef2662eb69",
   "metadata": {},
   "source": [
    "# First Bad Version - LeetCode #278\n",
    "## https://leetcode.com/problems/first-bad-version/"
   ]
  },
  {
   "cell_type": "code",
   "execution_count": 1,
   "id": "8eb755d6-da15-4660-998d-6571e8cbe3ad",
   "metadata": {},
   "outputs": [],
   "source": [
    "# The isBadVersion API is already defined for you.\n",
    "# @param version, an integer\n",
    "# @return an integer\n",
    "# def isBadVersion(version):\n",
    "\n",
    "class Solution:\n",
    "    def firstBadVersion(self, n):\n",
    "        \"\"\"\n",
    "        :type n: int\n",
    "        :rtype: int\n",
    "        \"\"\"\n",
    "        start = 1\n",
    "        end = n\n",
    "        while(start <= end):\n",
    "            mid = (start + end) // 2\n",
    "            if isBadVersion(mid) and not isBadVersion(mid-1) : \n",
    "                return mid\n",
    "            if isBadVersion(mid): end = mid - 1\n",
    "            else: start = mid + 1"
   ]
  }
 ],
 "metadata": {
  "kernelspec": {
   "display_name": "Python 3",
   "language": "python",
   "name": "python3"
  },
  "language_info": {
   "codemirror_mode": {
    "name": "ipython",
    "version": 3
   },
   "file_extension": ".py",
   "mimetype": "text/x-python",
   "name": "python",
   "nbconvert_exporter": "python",
   "pygments_lexer": "ipython3",
   "version": "3.9.5"
  }
 },
 "nbformat": 4,
 "nbformat_minor": 5
}
