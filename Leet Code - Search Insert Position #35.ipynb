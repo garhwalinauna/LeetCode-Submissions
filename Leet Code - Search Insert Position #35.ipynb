{
 "cells": [
  {
   "cell_type": "markdown",
   "id": "df7516d7-1180-4ea8-a4dc-83b85ed5f39b",
   "metadata": {},
   "source": [
    "# Search Insert Position - LeetCode #35\n",
    "## https://leetcode.com/problems/search-insert-position/"
   ]
  },
  {
   "cell_type": "code",
   "execution_count": 1,
   "id": "a014c832-3073-4270-bc94-3f5c9625923a",
   "metadata": {},
   "outputs": [],
   "source": [
    "class Solution:\n",
    "    def searchInsert(self, nums, target: int) -> int:\n",
    "        start = 0\n",
    "        end = len(nums) - 1\n",
    "        mid = 0\n",
    "        if target > nums[-1]: return len(nums)\n",
    "        if target < nums[0]: return 0\n",
    "        while(start <= end):\n",
    "            mid = (start + end) // 2\n",
    "            if nums[mid] == target: return mid\n",
    "            if nums[mid] < target: start = mid + 1\n",
    "            else: end = mid - 1\n",
    "        return start"
   ]
  }
 ],
 "metadata": {
  "kernelspec": {
   "display_name": "Python 3",
   "language": "python",
   "name": "python3"
  },
  "language_info": {
   "codemirror_mode": {
    "name": "ipython",
    "version": 3
   },
   "file_extension": ".py",
   "mimetype": "text/x-python",
   "name": "python",
   "nbconvert_exporter": "python",
   "pygments_lexer": "ipython3",
   "version": "3.9.5"
  }
 },
 "nbformat": 4,
 "nbformat_minor": 5
}
