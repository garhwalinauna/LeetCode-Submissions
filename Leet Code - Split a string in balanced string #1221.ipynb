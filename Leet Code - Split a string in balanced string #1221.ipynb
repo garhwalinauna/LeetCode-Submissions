{
 "cells": [
  {
   "cell_type": "markdown",
   "id": "261e4a8c-d2d2-489b-85bb-8890c025fc45",
   "metadata": {},
   "source": [
    "# Split a string in balanced string - LeetCode #1221\n",
    "## https://leetcode.com/problems/split-a-string-in-balanced-strings/"
   ]
  },
  {
   "cell_type": "code",
   "execution_count": 1,
   "id": "5e551d8c-f8b5-4856-87d5-2445ba3e5c9b",
   "metadata": {},
   "outputs": [],
   "source": [
    "class Solution:\n",
    "    def balancedStringSplit(self, s: str) -> int:\n",
    "        counter_L = 0\n",
    "        counter_R = 0\n",
    "        total = 0\n",
    "        i = 0\n",
    "        while i < len(s):\n",
    "            j = i\n",
    "            while j < len(s):\n",
    "                if s[j] == 'L':\n",
    "                    counter_L += 1\n",
    "                else: \n",
    "                    counter_R += 1\n",
    "                if counter_L == counter_R: \n",
    "                    total += 1\n",
    "                    counter_L = 0\n",
    "                    counter_R = 0\n",
    "                    break\n",
    "                j = j + 1\n",
    "                i = j + 1\n",
    "        return total"
   ]
  }
 ],
 "metadata": {
  "kernelspec": {
   "display_name": "Python 3",
   "language": "python",
   "name": "python3"
  },
  "language_info": {
   "codemirror_mode": {
    "name": "ipython",
    "version": 3
   },
   "file_extension": ".py",
   "mimetype": "text/x-python",
   "name": "python",
   "nbconvert_exporter": "python",
   "pygments_lexer": "ipython3",
   "version": "3.9.5"
  }
 },
 "nbformat": 4,
 "nbformat_minor": 5
}
