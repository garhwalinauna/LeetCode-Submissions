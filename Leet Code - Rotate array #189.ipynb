{
 "cells": [
  {
   "cell_type": "markdown",
   "id": "261e4a8c-d2d2-489b-85bb-8890c025fc45",
   "metadata": {},
   "source": [
    "# Rotate array - LeetCode #189\n",
    "## https://leetcode.com/problems/rotate-array/"
   ]
  },
  {
   "cell_type": "markdown",
   "id": "2a33a086-0fe2-42fa-9f12-e48447ebb056",
   "metadata": {},
   "source": [
    "### Approach 1"
   ]
  },
  {
   "cell_type": "code",
   "execution_count": 1,
   "id": "5e551d8c-f8b5-4856-87d5-2445ba3e5c9b",
   "metadata": {},
   "outputs": [],
   "source": [
    "class Solution:\n",
    "    def rotate(self, nums: List[int], k: int) -> None:\n",
    "        \"\"\"\n",
    "        Do not return anything, modify nums in-place instead.\n",
    "        \"\"\"\n",
    "        l = len(nums)\n",
    "        k = k % l\n",
    "        if k==0:\n",
    "            return\n",
    "        else:\n",
    "            Z = nums[l-k:] + nums[:l-k]\n",
    "            for i in range(len(nums)):\n",
    "                nums[i] = Z[i]"
   ]
  },
  {
   "cell_type": "markdown",
   "id": "674ec165-59f6-448b-be22-5382f6e3a12a",
   "metadata": {},
   "source": [
    "### Approach 2"
   ]
  },
  {
   "cell_type": "code",
   "execution_count": 29,
   "id": "bf0c2c5a-ae9d-4f9f-a23c-80495e2275c2",
   "metadata": {},
   "outputs": [],
   "source": [
    "lass Solution:\n",
    "    def reverse(self, nums, left, right):\n",
    "        while left < right:\n",
    "            nums[left], nums[right] = nums[right], nums[left]\n",
    "            left += 1\n",
    "            right -=1\n",
    "            \n",
    "    def rotate(self, nums: List[int], k: int) -> None:\n",
    "        \"\"\"\n",
    "        Do not return anything, modify nums in-place instead.\n",
    "        \"\"\"\n",
    "        l = len(nums)\n",
    "        if l == 1: \n",
    "            return\n",
    "        k = k % l\n",
    "        self.reverse(nums, 0, l-1)\n",
    "        self.reverse(nums, 0, k-1)\n",
    "        self.reverse(nums, k, l-1)"
   ]
  }
 ],
 "metadata": {
  "kernelspec": {
   "display_name": "Python 3",
   "language": "python",
   "name": "python3"
  },
  "language_info": {
   "codemirror_mode": {
    "name": "ipython",
    "version": 3
   },
   "file_extension": ".py",
   "mimetype": "text/x-python",
   "name": "python",
   "nbconvert_exporter": "python",
   "pygments_lexer": "ipython3",
   "version": "3.9.5"
  }
 },
 "nbformat": 4,
 "nbformat_minor": 5
}
