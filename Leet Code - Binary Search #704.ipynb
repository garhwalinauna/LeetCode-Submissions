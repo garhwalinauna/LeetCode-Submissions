{
 "cells": [
  {
   "cell_type": "markdown",
   "id": "cbd24288-07c4-4741-b798-ad653b87b9f0",
   "metadata": {},
   "source": [
    "# Binary Search - LeetCode #701\n",
    "## https://leetcode.com/problems/binary-search/"
   ]
  },
  {
   "cell_type": "markdown",
   "id": "c1c2c530-10b6-4109-af61-cd0c9e2997d8",
   "metadata": {},
   "source": [
    "### Approach 1"
   ]
  },
  {
   "cell_type": "code",
   "execution_count": 1,
   "id": "8bcb6437-b560-4659-8546-316db711496d",
   "metadata": {},
   "outputs": [],
   "source": [
    "class Solution:\n",
    "    def search(self, nums, target) -> int:\n",
    "        start = 0\n",
    "        end = len(nums) - 1\n",
    "        while(start <= end):\n",
    "            mid = (start + end) // 2\n",
    "            if nums[mid] == target:\n",
    "                return mid\n",
    "            if nums[mid] > target:\n",
    "                end = mid - 1\n",
    "            else:\n",
    "                start = mid + 1\n",
    "        return -1"
   ]
  }
 ],
 "metadata": {
  "kernelspec": {
   "display_name": "Python 3",
   "language": "python",
   "name": "python3"
  },
  "language_info": {
   "codemirror_mode": {
    "name": "ipython",
    "version": 3
   },
   "file_extension": ".py",
   "mimetype": "text/x-python",
   "name": "python",
   "nbconvert_exporter": "python",
   "pygments_lexer": "ipython3",
   "version": "3.9.5"
  }
 },
 "nbformat": 4,
 "nbformat_minor": 5
}
